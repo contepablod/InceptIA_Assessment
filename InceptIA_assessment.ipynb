{
 "cells": [
  {
   "cell_type": "markdown",
   "metadata": {},
   "source": [
    "# InceptIA Assessment - Python Dev Challenge"
   ]
  },
  {
   "cell_type": "markdown",
   "metadata": {},
   "source": [
    "**Enunciado**: Como se puede observar en el diagrama, en determinados momentos, el bot necesitará realizarvalidaciones externas para evaluar cómo continuar. A continuación, se define el alcance de esas funciones y se solicita desarrollar las mismas."
   ]
  },
  {
   "cell_type": "markdown",
   "metadata": {},
   "source": [
    "## Ejercicio 1"
   ]
  },
  {
   "cell_type": "markdown",
   "metadata": {},
   "source": [
    "**Ejercicio 1**: Completar el método is_hot_in_pehuajo con el siguiente objetivo:\n",
    "- Consultar la información de clima y devolver True si la temperatura actual supera los 28 grados celsius o False caso contrario. Esto implica incluso devolver False ante cualquier excepción http\n",
    "- Información extra: API Información de clima: Link a documentacion:https://openweathermap.org/current#geo"
   ]
  },
  {
   "cell_type": "code",
   "execution_count": 3,
   "metadata": {},
   "outputs": [],
   "source": [
    "import requests"
   ]
  },
  {
   "cell_type": "code",
   "execution_count": 4,
   "metadata": {},
   "outputs": [],
   "source": [
    "class GeoAPI:\n",
    "    API_KEY=\"d81015613923e3e435231f2740d5610b\"\n",
    "    LAT=\"-35.836948753554054\"\n",
    "    LON=\"-61.870523905384076\"\n",
    "\n",
    "    @classmethod\n",
    "    def is_hot_in_pehuajo(cls):\n",
    "        api_url = 'https://api.openweathermap.org/data/2.5/weather?lat={LAT}&lon={LON}&appid={API_KEY}&units={standard}'\n",
    "        response = requests.get(api_url)\n",
    "        if response.status_code == 200:\n",
    "            response = response.json()\n",
    "            return response.main.temp > 28\n",
    "        else:\n",
    "            return False\n",
    "\n",
    "# La API_KEY no funciona asi que siempre tira false porque el status_code es 401. No sé en qué unidades devuelve la temperatura, entiendo que con units standard devuelve en Celsius\n",
    "        "
   ]
  },
  {
   "cell_type": "code",
   "execution_count": 5,
   "metadata": {},
   "outputs": [
    {
     "data": {
      "text/plain": [
       "False"
      ]
     },
     "execution_count": 5,
     "metadata": {},
     "output_type": "execute_result"
    }
   ],
   "source": [
    "GeoAPI.is_hot_in_pehuajo()"
   ]
  },
  {
   "cell_type": "markdown",
   "metadata": {},
   "source": [
    "## Ejercicio 2"
   ]
  },
  {
   "cell_type": "markdown",
   "metadata": {},
   "source": [
    "**Ejercicio 2.1**: Dadas las variables: product_name y quantity, complete la función is_product_available con elsiguiente objetivo:\n",
    "- Buscar en un pandas DataFrame y devolver True si existe stock, False caso contrario."
   ]
  },
  {
   "cell_type": "code",
   "execution_count": 6,
   "metadata": {},
   "outputs": [],
   "source": [
    "import pandas as pd\n",
    "import random"
   ]
  },
  {
   "cell_type": "code",
   "execution_count": 7,
   "metadata": {},
   "outputs": [],
   "source": [
    "_PRODUCT_DF = pd.DataFrame({\"product_name\": [\"Chocolate\",\"Granizado\",\"Limon\",\"Dulce de Leche\"],\"quantity\": [3,10,0,5]})"
   ]
  },
  {
   "cell_type": "code",
   "execution_count": 8,
   "metadata": {},
   "outputs": [],
   "source": [
    "def is_product_available(product_name: str, quantity: int):\n",
    "    product = _PRODUCT_DF.loc[_PRODUCT_DF.loc[:, 'product_name'] == product_name]\n",
    "    idx = product['quantity'].index.item()\n",
    "    return print(f\"{product_name}:\\t {(product['quantity'][idx] == quantity)}\")\n"
   ]
  },
  {
   "cell_type": "code",
   "execution_count": 9,
   "metadata": {},
   "outputs": [
    {
     "name": "stdout",
     "output_type": "stream",
     "text": [
      "Chocolate:\t False\n",
      "Granizado:\t False\n",
      "Limon:\t False\n",
      "Dulce de Leche:\t False\n"
     ]
    }
   ],
   "source": [
    "products = _PRODUCT_DF['product_name'].tolist()\n",
    "for i in products:\n",
    "    is_product_available(i, random.randint(0,11))"
   ]
  },
  {
   "cell_type": "markdown",
   "metadata": {},
   "source": [
    "**Ejercicio 2.2**: Si miramos el diagrama de flujo al momento de la decisión de stock, encontramos un potencial loop infinito, ya que el usuario podría continuar ingresando productos inválidos o sin stock. Reformule la función para solucionar este problema"
   ]
  },
  {
   "cell_type": "code",
   "execution_count": 10,
   "metadata": {},
   "outputs": [],
   "source": [
    "def is_product_available_refactored(product_name: str, quantity: int):\n",
    "        if product_name in _PRODUCT_DF['product_name']:\n",
    "            product = _PRODUCT_DF.loc[_PRODUCT_DF.loc[:, 'product_name'] == product_name]\n",
    "            idx = product['quantity'].index.item()\n",
    "            return f\"{product_name}:\\t {(product['quantity'][idx] == quantity)}\"\n",
    "        else:\n",
    "            return print('El producto no se encuentra en la lista')"
   ]
  },
  {
   "cell_type": "code",
   "execution_count": 11,
   "metadata": {},
   "outputs": [
    {
     "name": "stdout",
     "output_type": "stream",
     "text": [
      "El producto no se encuentra en la lista\n"
     ]
    }
   ],
   "source": [
    "is_product_available_refactored('Leche', 10)"
   ]
  },
  {
   "cell_type": "markdown",
   "metadata": {},
   "source": [
    "**Ejercicio 3**: Completar la función validate_discount_code con el siguiente objetivo:\n",
    "- Dada la lista de códigos de descuento vigentes y un código de descuento mencionado por el cliente, devuelve True si la diferencia entre el código mencionado y los códigos vigentes es menor a tres caracteres, en al menos uno de los casos. Por diferencia se entiende: caracteres que están presentes en el código brindado, pero no en el código evaluado de la lista o viceversa"
   ]
  },
  {
   "cell_type": "code",
   "execution_count": 12,
   "metadata": {},
   "outputs": [],
   "source": [
    "_AVAILABLE_DISCOUNT_CODES = [\"Primavera2021\", \"Verano2021\", \"Navidad2x1\", \"heladoFrozen\"]"
   ]
  },
  {
   "cell_type": "code",
   "execution_count": 13,
   "metadata": {},
   "outputs": [],
   "source": [
    "def validate_discount_code(discount_code):\n",
    "    \"\"\"\n",
    "    Ejemplo:\"primavera2021\" deberia devolver True, ya que al compararlo:\n",
    "    vs \"Primavera2021\" = 2 caracteres de diferencia (\"p\" y \"P\")\n",
    "    vs \"Verano2021\" = 7 caracteres de diferencia ('i', 'n', 'o', 'm', 'V', 'p', 'v')\n",
    "    vs \"Navidad2x1\" = 8 caracteres de diferencia ('N', 'm', '0', 'x', 'e','d', 'p', 'r')\n",
    "    vs \"heladoFrozen\" = 14 caracteres de diferencia ('z', 'i', 'v', 'n','o', 'm', '2', '0', 'd', 'p', '1', 'F', 'h', 'l')\n",
    "    \"\"\"\n",
    "    set_discount_code = set(discount_code)\n",
    "\n",
    "    _set = {}\n",
    "    for k,v in enumerate(_AVAILABLE_DISCOUNT_CODES):\n",
    "        _set[k] = set(v)\n",
    "    \n",
    "    set_lengths = []\n",
    "    for i in _set.keys():\n",
    "        set_lengths.append(len(set_discount_code.symmetric_difference(_set[i])))\n",
    "    \n",
    "    if min(set(set_lengths)) < 3:\n",
    "        return True\n",
    "   \n",
    "    return False"
   ]
  },
  {
   "cell_type": "code",
   "execution_count": 14,
   "metadata": {},
   "outputs": [
    {
     "name": "stdout",
     "output_type": "stream",
     "text": [
      "Primavera2021 True\n",
      "Verano2021 True\n",
      "Navidad2x1 True\n",
      "heladoFrozen True\n"
     ]
    }
   ],
   "source": [
    "for i in _AVAILABLE_DISCOUNT_CODES:\n",
    "    print(i, validate_discount_code(i))"
   ]
  },
  {
   "cell_type": "code",
   "execution_count": 15,
   "metadata": {},
   "outputs": [
    {
     "name": "stdout",
     "output_type": "stream",
     "text": [
      "Python False\n",
      "Java False\n",
      "Rust False\n",
      "TypeScript False\n"
     ]
    }
   ],
   "source": [
    "_Test_List = ['Python', 'Java', 'Rust', 'TypeScript']\n",
    "for i in _Test_List:\n",
    "    print(i, validate_discount_code(i))"
   ]
  }
 ],
 "metadata": {
  "kernelspec": {
   "display_name": "Python 3.10.7 64-bit",
   "language": "python",
   "name": "python3"
  },
  "language_info": {
   "codemirror_mode": {
    "name": "ipython",
    "version": 3
   },
   "file_extension": ".py",
   "mimetype": "text/x-python",
   "name": "python",
   "nbconvert_exporter": "python",
   "pygments_lexer": "ipython3",
   "version": "3.10.7"
  },
  "orig_nbformat": 4,
  "vscode": {
   "interpreter": {
    "hash": "de534543493c93dd74983ce351d5dc380ee4b042ff5b76a9a21948ad35ca9587"
   }
  }
 },
 "nbformat": 4,
 "nbformat_minor": 2
}
